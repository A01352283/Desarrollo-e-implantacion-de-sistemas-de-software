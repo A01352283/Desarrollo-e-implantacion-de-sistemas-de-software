{
 "cells": [
  {
   "cell_type": "code",
   "execution_count": 198,
   "metadata": {},
   "outputs": [],
   "source": [
    "import pandas as pd"
   ]
  },
  {
   "cell_type": "code",
   "execution_count": 199,
   "metadata": {},
   "outputs": [],
   "source": [
    "df = pd.read_csv('scrapedResults.csv')"
   ]
  },
  {
   "attachments": {},
   "cell_type": "markdown",
   "metadata": {},
   "source": [
    "## Data cleaning"
   ]
  },
  {
   "cell_type": "code",
   "execution_count": 200,
   "metadata": {},
   "outputs": [
    {
     "name": "stdout",
     "output_type": "stream",
     "text": [
      "marca          0\n",
      "modelo         0\n",
      "año            0\n",
      "precio         0\n",
      "transmisión    0\n",
      "rendimiento    0\n",
      "combustible    0\n",
      "litros         0\n",
      "dtype: int64\n"
     ]
    }
   ],
   "source": [
    "#---Precio column---#\n",
    "# Delete everything after the first whitespace in the 'precio' column\n",
    "df['precio'] = df['precio'].str.split().str[0]\n",
    "# Remove empty spaces from the precio column\n",
    "df['precio'] = df['precio'].str.strip()\n",
    "# Remove the commas in the precio column\n",
    "df['precio'] = df['precio'].str.replace(',', '')\n",
    "# Set the data type of the 'precio' column to float, this is used to fill the missing values with the mean of the column\n",
    "df['precio'] = df['precio'].astype(float)\n",
    "\n",
    "# # Forward-fill missing values within each group (car model) \n",
    "df['precio'] = df.groupby('modelo')['precio'].fillna(method='ffill')\n",
    "# Forward-fill missing values within each group (car brand)\n",
    "df['precio'] = df.groupby('marca')['precio'].fillna(method='ffill')\n",
    "# Fill the remaining missing values with the mean of the column\n",
    "df['precio'] = df['precio'].fillna(df['precio'].mean())\n",
    "\n",
    "#---Renimiento column---#\n",
    "# Convert the column to numeric, replacing non-numeric values with NaN\n",
    "df['rendimiento'] = pd.to_numeric(df['rendimiento'], errors='coerce')\n",
    "# Calculate the mean of the numeric values in the column, excluding NaN values\n",
    "mean_value = df['rendimiento'].mean(skipna=True)\n",
    "# Fill the NaN and non-numeric values in the column with the mean value\n",
    "df['rendimiento'].fillna(mean_value, inplace=True)\n",
    "\n",
    "#---Transmisión column---#\n",
    "# Repeat the process for other columns\n",
    "df['transmisión'] = df.groupby('modelo')['transmisión'].fillna(method='ffill')\n",
    "df['transmisión'] = df.groupby('marca')['transmisión'].fillna(method='ffill')\n",
    "\n",
    "#---Combustible column---#\n",
    "# Drop rows with numbers in the combustible column\n",
    "df = df[~df['combustible'].str.contains(r'\\d', na=False)]\n",
    "# Fill missing cells in 'combustible' column with values from similar rows\n",
    "df['combustible'] = df.groupby(['marca', 'modelo', 'año'])['combustible'].fillna(method='ffill')\n",
    "# If there are still missing values, fill them with values from the same 'marca'\n",
    "df['combustible'] = df.groupby(['marca'])['combustible'].fillna(method='ffill')\n",
    "# If there are still missing values, fill them with values from the same 'modelo'\n",
    "df['combustible'] = df.groupby(['modelo'])['combustible'].fillna(method='ffill')\n",
    "# If there are still missing values, fill them with the most common value in the column\n",
    "df['combustible'] = df['combustible'].fillna(df['combustible'].mode()[0])\n",
    "\n",
    "#---Litros column---#\n",
    "# Repeat the process for other columns\n",
    "df['litros'] = df.groupby(['marca', 'modelo', 'año'])['litros'].fillna(method='ffill')\n",
    "df['litros'] = df.groupby('modelo')['litros'].fillna(method='ffill')\n",
    "df['litros'] = df.groupby('marca')['litros'].fillna(method='ffill')\n",
    "df['litros'] = df['litros'].fillna(df['litros'].mode()[0])\n",
    "\n",
    "# Print if there are any missing values left\n",
    "print(df.isnull().sum())"
   ]
  },
  {
   "cell_type": "code",
   "execution_count": 201,
   "metadata": {},
   "outputs": [],
   "source": [
    "# Save the cleaned data to a new csv file\n",
    "df.to_csv('cleanedScrapedResults.csv', index=False)"
   ]
  }
 ],
 "metadata": {
  "kernelspec": {
   "display_name": "DataSciGeneral",
   "language": "python",
   "name": "python3"
  },
  "language_info": {
   "codemirror_mode": {
    "name": "ipython",
    "version": 3
   },
   "file_extension": ".py",
   "mimetype": "text/x-python",
   "name": "python",
   "nbconvert_exporter": "python",
   "pygments_lexer": "ipython3",
   "version": "3.10.4"
  },
  "orig_nbformat": 4
 },
 "nbformat": 4,
 "nbformat_minor": 2
}
